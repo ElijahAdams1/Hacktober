{
 "cells": [
  {
   "cell_type": "markdown",
   "metadata": {},
   "source": [
    "# Download data from Hubble\n",
    "We will use the astroquery module to query the MAST api to find HST images for CANDELS objects"
   ]
  },
  {
   "cell_type": "code",
   "execution_count": 1,
   "metadata": {},
   "outputs": [],
   "source": [
    "from astroquery.mast import Observations\n",
    "from astropy.io import fits\n",
    "from astropy.table import Table\n",
    "from astropy import units as u\n",
    "from astropy import coordinates as coords\n",
    "from astropy.coordinates import FK5\n",
    "import os\n",
    "import shutil"
   ]
  },
  {
   "cell_type": "code",
   "execution_count": null,
   "metadata": {},
   "outputs": [],
   "source": [
    "# Read in fits table\n",
    "GZ_catalog = fits.open('schawinski_GZ_2010_catalogue.fits')\n",
    "catalog = Table(GZ_catalog[1].data)\n",
    "# The data is stored as individual arrays where each element represents a different galaxy\n",
    "# We will pull the arrays for the OBJID and Category\n",
    "Redshift = catalog['REDSHIFT'][0]\n",
    "ObjID = catalog['OBJID'][0]\n",
    "Morphology = catalog['GZ1_MORPHOLOGY'][0]\n",
    "BPT_class = catalog['BPT_CLASS'][0]\n",
    "RA = catalog['RA'][0]\n",
    "DEC = catalog['DEC'][0]\n",
    "\n",
    "for gal_ct in range(len(ObjID)):\n",
    "    id_ = ObjID[gal_ct]\n",
    "    redshift_ = Redshift[gal_ct]\n",
    "    morph_ = Morphology[gal_ct]\n",
    "    bpt_ = BPT_class[gal_ct]\n",
    "    ra_ = RA[gal_ct]\n",
    "    dec_ = DEC[gal_ct]\n",
    "\n",
    "    pos = coords.SkyCoord(ra=ra_*u.degree, dec= dec_*u.degree, frame='fk5')\n",
    "    obs = Observations.query_criteria(project='HST',\n",
    "                                       filters='F160W',\n",
    "                                       instrument_name='WFC3/IR',\n",
    "                                       dataproduct_type=[\"image\"],\n",
    "                                       coordinates=pos)\n",
    "    if obs:\n",
    "        print(\"RA:%s DEC:%s\"%(ra_,dec_))\n",
    "        for ob in obs:\n",
    "            data_products = Observations.get_product_list(ob['obsid'])#, filters=['F814W'])\n",
    "            manifest = Observations.download_products(data_products, download_dir='HST/', productType='SCIENCE', extension='fits', productSubGroupDescription='DRZ')\n",
    "        "
   ]
  },
  {
   "cell_type": "code",
   "execution_count": null,
   "metadata": {},
   "outputs": [],
   "source": [
    "for root, dirs, files in os.walk(\"HST\"):\n",
    "    path = root.split(os.sep)\n",
    "    #print((len(path) - 1) * '---', os.path.basename(root))\n",
    "    for file in files:\n",
    "        if file.endswith('.fits'):\n",
    "            print(os.path.join(root, file))\n",
    "            shutil.copy(os.path.join(root, file), os.path.join('HST-Final', file))"
   ]
  },
  {
   "cell_type": "code",
   "execution_count": null,
   "metadata": {},
   "outputs": [],
   "source": []
  },
  {
   "cell_type": "code",
   "execution_count": 2,
   "metadata": {},
   "outputs": [],
   "source": [
    "from astropy.time import Time"
   ]
  },
  {
   "cell_type": "code",
   "execution_count": 3,
   "metadata": {},
   "outputs": [],
   "source": [
    "pos = coords.SkyCoord('07:41:42.4 +74:14:48.9', unit=(u.hourangle, u.deg), frame='fk5')\n",
    "fk5_2000 = FK5(equinox=Time(2000, format='jyear'))\n",
    "pos = pos.transform_to(fk5_2000)\n",
    "obs = Observations.query_criteria(project='HST',\n",
    "                                   #filters='F160W',\n",
    "                                  target_name='MS0735.6+7421',\n",
    "                                   #instrument_name='WFC3/IR',\n",
    "                                   dataproduct_type=[\"image\"],\n",
    "                                   coordinates=pos)"
   ]
  },
  {
   "cell_type": "code",
   "execution_count": 7,
   "metadata": {},
   "outputs": [
    {
     "name": "stdout",
     "output_type": "stream",
     "text": [
      "INFO: Found cached file ./mastDownload/HLA/hst_10495_a1_acs_hrc_f330w/hst_10495_a1_acs_hrc_f330w_drz.fits with expected size 35838720. [astroquery.query]\n",
      "Downloading URL https://mast.stsci.edu/api/v0.1/Download/file?uri=mast:HLA/url/cgi-bin/getdata.cgi?dataset=hst_10495_a1_acs_hrc_f330w_03_drz.fits to ./mastDownload/HLA/hst_10495_a1_acs_hrc_f330w_03/hst_10495_a1_acs_hrc_f330w_03_drz.fits ... [Done]\n",
      "Downloading URL https://mast.stsci.edu/api/v0.1/Download/file?uri=mast:HLA/url/cgi-bin/getdata.cgi?dataset=hst_10495_a1_acs_hrc_f330w_04_drz.fits to ./mastDownload/HLA/hst_10495_a1_acs_hrc_f330w_04/hst_10495_a1_acs_hrc_f330w_04_drz.fits ... [Done]\n",
      "Downloading URL https://mast.stsci.edu/api/v0.1/Download/file?uri=mast:HST/product/j9boa1030_drz.fits to ./mastDownload/HST/j9boa1030/j9boa1030_drz.fits ... [Done]\n"
     ]
    }
   ],
   "source": [
    "data_products = Observations.get_product_list('2003869529')\n",
    "manifest = Observations.download_products(data_products, download_dir='', productType='SCIENCE', extension='fits', productSubGroupDescription='DRZ')"
   ]
  },
  {
   "cell_type": "code",
   "execution_count": null,
   "metadata": {},
   "outputs": [],
   "source": []
  }
 ],
 "metadata": {
  "kernelspec": {
   "display_name": "Python 3",
   "language": "python",
   "name": "python3"
  },
  "language_info": {
   "codemirror_mode": {
    "name": "ipython",
    "version": 3
   },
   "file_extension": ".py",
   "mimetype": "text/x-python",
   "name": "python",
   "nbconvert_exporter": "python",
   "pygments_lexer": "ipython3",
   "version": "3.7.6"
  }
 },
 "nbformat": 4,
 "nbformat_minor": 4
}
